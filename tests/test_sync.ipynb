{
 "cells": [
  {
   "cell_type": "code",
   "execution_count": null,
   "metadata": {
    "collapsed": true
   },
   "outputs": [],
   "source": [
    "import os\n",
    "import os.path as osp\n",
    "import numpy as np\n",
    "from scipy.spatial.transform import Rotation as R\n",
    "import pickle\n",
    "import matplotlib.pyplot as plt\n",
    "plt.rc('font',family='Times New Roman', size=14)\n",
    "import pandas as pd"
   ]
  },
  {
   "cell_type": "code",
   "execution_count": null,
   "outputs": [],
   "source": [
    "MEASUREMENT_PATH = r\"C:\\Users\\robotflow\\Desktop\\rfimu-interface\\imu_data\\imu_mem_2023-04-18_202012\\imu.pkl\"\n",
    "imu_data = pickle.load(open(MEASUREMENT_PATH, 'rb'))\n"
   ],
   "metadata": {
    "collapsed": false
   }
  },
  {
   "cell_type": "code",
   "execution_count": null,
   "outputs": [],
   "source": [
    "imu_ids = list(imu_data.keys())\n",
    "z_axis = {s:None for s in imu_ids}\n",
    "for imu_id in imu_ids:\n",
    "    z_axis[imu_id] =  R.from_quat(imu_data[imu_id]['quat']).apply(np.array([0, 0, 1]))"
   ],
   "metadata": {
    "collapsed": false
   }
  },
  {
   "cell_type": "code",
   "execution_count": null,
   "outputs": [],
   "source": [
    "def plot_z_axis(vectors, start_idx=0, end_idx=None):\n",
    "    end_idx = end_idx if end_idx is not None else len(vectors[vectors.keys()[0]])\n",
    "    fig = plt.figure(dpi=300, figsize=(10, 10))\n",
    "    ax = fig.add_subplot(111, projection='3d')\n",
    "    for key in vectors:\n",
    "        x, y, z = zip(*vectors[key])\n",
    "        ax.plot(x[start_idx:end_idx], y[start_idx:end_idx], z[start_idx:end_idx], label=key)\n",
    "    ax.set_xlabel('X Label')\n",
    "    ax.set_ylabel('Y Label')\n",
    "    ax.set_zlabel('Z Label')\n",
    "    ax.legend()\n",
    "    plt.show()\n"
   ],
   "metadata": {
    "collapsed": false
   }
  },
  {
   "cell_type": "code",
   "execution_count": null,
   "outputs": [],
   "source": [
    "plot_z_axis(z_axis, 3000, 6000)"
   ],
   "metadata": {
    "collapsed": false
   }
  },
  {
   "cell_type": "code",
   "execution_count": null,
   "outputs": [],
   "source": [
    "def plot_z_axis_flat(vectors, start_idx=0, end_idx=None):\n",
    "    end_idx = end_idx if end_idx is not None else len(vectors[vectors.keys()[0]])\n",
    "    fig, axs = plt.subplots(3, dpi=300, figsize=(10, 10))\n",
    "    # fig.suptitle('Projection of Norm Vector on X, Y, Z Axis in World Coordinate')\n",
    "    for key in vectors:\n",
    "        x, y, z = zip(*vectors[key])\n",
    "        axs[0].plot(x[start_idx:end_idx], label=key)\n",
    "        axs[1].plot(y[start_idx:end_idx], label=key)\n",
    "        axs[2].plot(z[start_idx:end_idx], label=key)\n",
    "    axs[0].set_title('X')\n",
    "    axs[1].set_title('Y')\n",
    "    axs[2].set_title('Z')\n",
    "    _value = ['X', 'Y', 'Z']\n",
    "    for idx, ax in enumerate(axs.flat):\n",
    "        ax.set(ylabel=_value[idx] + ' Axis')\n",
    "        ax.legend()\n",
    "    plt.show()"
   ],
   "metadata": {
    "collapsed": false
   }
  },
  {
   "cell_type": "code",
   "execution_count": null,
   "outputs": [],
   "source": [
    "plot_z_axis_flat(z_axis, 3000, 6000)"
   ],
   "metadata": {
    "collapsed": false
   }
  },
  {
   "cell_type": "code",
   "execution_count": null,
   "outputs": [],
   "source": [
    "from scipy.signal import hilbert, butter, filtfilt\n",
    "\n",
    "def plot_phase_synchrony(d1: np.ndarray, d2: np.ndarray):\n",
    "    def butter_bandpass(lowcut, highcut, fs, order=5):\n",
    "        nyq = 0.5 * fs\n",
    "        low = lowcut / nyq\n",
    "        high = highcut / nyq\n",
    "        b, a = butter(order, [low, high], btype='band')\n",
    "        return b, a\n",
    "\n",
    "\n",
    "    def butter_bandpass_filter(data, lowcut, highcut, fs, order=5):\n",
    "        b, a = butter_bandpass(lowcut, highcut, fs, order=order)\n",
    "        y = filtfilt(b, a, data)\n",
    "        return y\n",
    "\n",
    "    lowcut  = .001\n",
    "    highcut = 50\n",
    "    fs = 400.\n",
    "    order = 2\n",
    "\n",
    "    y1 = butter_bandpass_filter(d1,lowcut=lowcut,highcut=highcut,fs=fs,order=order)\n",
    "    y2 = butter_bandpass_filter(d2,lowcut=lowcut,highcut=highcut,fs=fs,order=order)\n",
    "\n",
    "    al1 = np.angle(hilbert(y1),deg=False)\n",
    "    al2 = np.angle(hilbert(y2),deg=False)\n",
    "    phase_synchrony = 1-np.sin(np.abs(al1-al2)/2)\n",
    "    N = len(al1)\n",
    "\n",
    "    # 绘制结果\n",
    "    f,ax = plt.subplots(3,1,figsize=(14,7),sharex=True)\n",
    "    ax[0].plot(y1,color='r',label='dev1')\n",
    "    ax[0].plot(y2,color='b',label='dev2')\n",
    "    # ax[0].legend(bbox_to_anchor=(0., 1.02, 1., .102),ncol=2)\n",
    "    ax[0].legend()\n",
    "    ax[0].set(xlim=[0,N], title='Gyroscope Measurement', )\n",
    "    ax[1].plot(al1,color='r')\n",
    "    ax[1].plot(al2,color='b')\n",
    "    ax[1].set(ylabel='Angle',title='Angle',xlim=[0,N])\n",
    "    ax[2].plot(phase_synchrony)\n",
    "    ax[2].set(ylim=[0,1.1],xlim=[0,N],title='Instantaneous Phase Synchrony',xlabel='N samples',ylabel='Phase Synchrony')\n",
    "    plt.tight_layout()\n",
    "    plt.savefig('output.pdf')\n",
    "    plt.show()\n",
    "    return phase_synchrony.mean()\n"
   ],
   "metadata": {
    "collapsed": false
   }
  },
  {
   "cell_type": "code",
   "execution_count": null,
   "outputs": [],
   "source": [
    "plot_phase_synchrony(z_axis[imu_ids[0]][:,0], z_axis[imu_ids[1]][:,0])"
   ],
   "metadata": {
    "collapsed": false
   }
  },
  {
   "cell_type": "code",
   "execution_count": null,
   "outputs": [],
   "source": [
    "plot_phase_synchrony(imu_data[imu_ids[0]]['gyro'][:,0], imu_data[imu_ids[1]]['gyro'][:,0])\n"
   ],
   "metadata": {
    "collapsed": false
   }
  },
  {
   "cell_type": "code",
   "execution_count": null,
   "outputs": [],
   "source": [
    "def plot_rolling_window_correlation(d1: np.ndarray, d2: np.ndarray):\n",
    "    def get_triangle(df,k=0):\n",
    "        '''\n",
    "        This function grabs the upper triangle of a correlation matrix\n",
    "        by masking out the bottom triangle (tril) and returns the values.\n",
    "\n",
    "        df: pandas correlation matrix\n",
    "        '''\n",
    "        x = np.hstack(df.mask(np.tril(np.ones(df.shape),k=k).astype(bool)).values.tolist())\n",
    "        x = x[~np.isnan(x)]\n",
    "        return x\n",
    "\n",
    "    def rolling_correlation(data, wrap=False, *args, **kwargs):\n",
    "        '''\n",
    "        Intersubject rolling correlation.\n",
    "        Data is dataframe with observations in rows, subjects in columns.\n",
    "        Calculates pairwise rolling correlation at each time.\n",
    "        Grabs the upper triangle, at each timepoints returns dataframe with\n",
    "        observation in rows and pairs of subjects in columns.\n",
    "        *args:\n",
    "            window: window size of rolling corr in samples\n",
    "            center: whether to center result (Default: False, so correlation values are listed on the right.)\n",
    "        '''\n",
    "        data_len = data.shape[0]\n",
    "        half_data_len = int(data.shape[0]/2)\n",
    "        start_len = data.iloc[half_data_len:].shape[0]\n",
    "        if wrap:\n",
    "            data = pd.concat([data.iloc[half_data_len:],data,data.iloc[:half_data_len]],axis=0).reset_index(drop=True)\n",
    "        _rolling = data.rolling(*args, **kwargs).corr()\n",
    "        rs=[]\n",
    "        for i in np.arange(0,data.shape[0]):\n",
    "            rs.append(get_triangle(_rolling.loc[i]))\n",
    "        rs = pd.DataFrame(rs)\n",
    "        rs = rs.iloc[start_len:start_len+data_len].reset_index(drop=True)\n",
    "        return rs\n",
    "\n",
    "    N = 600 # number of smaples\n",
    "    T = 1.0 / 400.0 # sample spacing\n",
    "    window_size = 50\n",
    "\n",
    "    f,ax = plt.subplots(2,1,figsize=(20,5),sharex=True)\n",
    "    ax[0].plot(d1,color='r',label='y1')\n",
    "    ax[0].plot(d2,color='b',label='y2')\n",
    "    # ax[0].legend(bbox_to_anchor=(0., 1.02, 1., .102),ncol=2)\n",
    "    ax[0].legend()\n",
    "    ax[0].set(xlim=[0,N], title='Timeseries Data')\n",
    "    window_corr_synchrony = rolling_correlation(data=pd.DataFrame({'y1':d1,'y2':d2}),wrap=True,window=window_size,center=True)\n",
    "    window_corr_synchrony.plot(ax=ax[1],legend=False)\n",
    "    ax[1].set(ylim=[-1.1,1.1],xlim=[0,N],title='Windowed Correlation Synchrony (size: '+str(window_size)+')',xlabel='Time',ylabel='Correlation Synchrony')\n",
    "    plt.tight_layout()\n",
    "    plt.show()"
   ],
   "metadata": {
    "collapsed": false
   }
  },
  {
   "cell_type": "code",
   "execution_count": null,
   "outputs": [],
   "source": [
    "plot_rolling_window_correlation(imu_data[imu_ids[0]]['gyro'][:,0], imu_data[imu_ids[1]]['gyro'][:,0])"
   ],
   "metadata": {
    "collapsed": false
   }
  },
  {
   "cell_type": "code",
   "execution_count": null,
   "outputs": [],
   "source": [],
   "metadata": {
    "collapsed": false
   }
  }
 ],
 "metadata": {
  "kernelspec": {
   "display_name": "Python 3",
   "language": "python",
   "name": "python3"
  },
  "language_info": {
   "codemirror_mode": {
    "name": "ipython",
    "version": 2
   },
   "file_extension": ".py",
   "mimetype": "text/x-python",
   "name": "python",
   "nbconvert_exporter": "python",
   "pygments_lexer": "ipython2",
   "version": "2.7.6"
  }
 },
 "nbformat": 4,
 "nbformat_minor": 0
}
